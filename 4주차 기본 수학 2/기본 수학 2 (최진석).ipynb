{
 "cells": [
  {
   "cell_type": "markdown",
   "id": "a3a881da",
   "metadata": {},
   "source": [
    "### 소수 찾기\n",
    "주어진 수 N개 중에서 소수가 몇 개인지 찾아서 출력하는 프로그램을 작성하시오."
   ]
  },
  {
   "cell_type": "code",
   "execution_count": 2,
   "id": "fad31d8f",
   "metadata": {},
   "outputs": [
    {
     "name": "stdout",
     "output_type": "stream",
     "text": [
      "4\n",
      "1 3 5 7\n",
      "3\n"
     ]
    }
   ],
   "source": [
    "n = int(input())\n",
    "numbers = list(map(int, input().split()))\n",
    "cnt = 0\n",
    "\n",
    "for x in numbers:\n",
    "    for i in range(2, x+1):\n",
    "        if x % i ==0:\n",
    "            if x ==i:\n",
    "                cnt += 1\n",
    "            break\n",
    "\n",
    "print(cnt)"
   ]
  },
  {
   "cell_type": "markdown",
   "id": "ced6f2df",
   "metadata": {},
   "source": [
    "### 소수\n",
    "자연수 M과 N이 주어질 때 M이상 N이하의 자연수 중 소수인 것을 모두 골라 이들 소수의 합과 최솟값을 찾는 프로그램을 작성하시오.\n",
    "\n",
    "예를 들어 M=60, N=100인 경우 60이상 100이하의 자연수 중 소수는 61, 67, 71, 73, 79, 83, 89, 97 총 8개가 있으므로, 이들 소수의 합은 620이고, 최솟값은 61이 된다."
   ]
  },
  {
   "cell_type": "code",
   "execution_count": null,
   "id": "25a52831",
   "metadata": {},
   "outputs": [],
   "source": []
  },
  {
   "cell_type": "code",
   "execution_count": 13,
   "id": "2af00f46",
   "metadata": {},
   "outputs": [
    {
     "name": "stdout",
     "output_type": "stream",
     "text": [
      "60\n",
      "100\n",
      "3280\n",
      "60\n",
      "[60, 61, 62, 63, 64, 65, 66, 67, 68, 69, 70, 71, 72, 73, 74, 75, 76, 77, 78, 79, 80, 81, 82, 83, 84, 85, 86, 87, 88, 89, 90, 91, 92, 93, 94, 95, 96, 97, 98, 99, 100]\n"
     ]
    }
   ],
   "source": [
    "m = int(input())\n",
    "n = int(input())\n",
    "a =[]\n",
    "\n",
    "for x in range(m, n+1):\n",
    "    for i in range(2, x+1):\n",
    "        if x % i ==0:\n",
    "            if x ==i:\n",
    "                a.append(x)\n",
    "\n",
    "a.sort()\n",
    "\n",
    "print(sum(a))\n",
    "print(a[0])\n",
    "print(a)"
   ]
  },
  {
   "cell_type": "markdown",
   "id": "5ff8d08e",
   "metadata": {},
   "source": [
    "### 소인수분해\n",
    "정수 N이 주어졌을 때, 소인수분해하는 프로그램을 작성하시오."
   ]
  },
  {
   "cell_type": "code",
   "execution_count": null,
   "id": "acecab7e",
   "metadata": {},
   "outputs": [],
   "source": [
    "N = int(input())  # 나누어지는 수\n",
    "d = 2  # 나누는 수\n",
    "\n",
    "while N != 1:\n",
    "    if N % d != 0:\n",
    "        d += 1\n",
    "    else:\n",
    "        N //= d\n",
    "        print(d)"
   ]
  },
  {
   "cell_type": "markdown",
   "id": "4d10575b",
   "metadata": {},
   "source": [
    "### 소수구하기\n",
    "M이상 N이하의 소수를 모두 출력하는 프로그램을 작성하시오.\n",
    "- 에라토스테네스의 체"
   ]
  },
  {
   "cell_type": "code",
   "execution_count": null,
   "id": "4834063b",
   "metadata": {},
   "outputs": [],
   "source": [
    "#다른 스터디원의 풀이로 대체\n",
    "\n",
    "M, N = map(int, input().split())\n",
    "k=list(range(2,N+1))\n",
    "answer=[]\n",
    "while k:# k값이 빌때까지 반복\n",
    "    le=k[0]# k의 0번째값을 저장\n",
    "    if le > int(N**(1/2)):# 만약 k값의 0번째가 N값보다 커질경우 뒤에있는 모든값 정답에 붙이기\n",
    "        answer.extend(k)\n",
    "        break\n",
    "    answer.append(le)# 정답에 추가\n",
    "    k= [y for y in k if y%le!=0]# k리스트 에 le의 배수제거\n",
    "for i in range(len(answer)):# M값보다 큰위치 찾기\n",
    "    if answer[i]>=M:\n",
    "    s=i\n",
    "    break\n",
    "print(\"\\n\".join(map(str,answer[s:])))# 한칸 밑으로 띄우면서 프린트"
   ]
  },
  {
   "cell_type": "code",
   "execution_count": 27,
   "id": "b4eff9b2",
   "metadata": {},
   "outputs": [
    {
     "name": "stdout",
     "output_type": "stream",
     "text": [
      "1 5\n",
      "[6]\n"
     ]
    }
   ],
   "source": [
    "m, n = list(map(int,input().split()))\n",
    "prime = []\n",
    "for x in (m,n+1):\n",
    "    for i in range(2, x+1):\n",
    "        if x % i ==0:\n",
    "            if x ==i:\n",
    "                prime = prime + [i]\n",
    "print(prime)"
   ]
  },
  {
   "cell_type": "markdown",
   "id": "ff7ec21e",
   "metadata": {},
   "source": [
    "### 베르트랑 공준\n",
    "베르트랑 공준은 임의의 자연수 n에 대하여, n보다 크고, 2n보다 작거나 같은 소수는 적어도 하나 존재한다는 내용을 담고 있다.\n",
    "\n",
    "이 명제는 조제프 베르트랑이 1845년에 추측했고, 파프누티 체비쇼프가 1850년에 증명했다.\n",
    "\n",
    "예를 들어, 10보다 크고, 20보다 작거나 같은 소수는 4개가 있다. (11, 13, 17, 19) 또, 14보다 크고, 28보다 작거나 같은 소수는 3개가 있다. (17,19, 23)\n",
    "\n",
    "자연수 n이 주어졌을 때, n보다 크고, 2n보다 작거나 같은 소수의 개수를 구하는 프로그램을 작성하시오. "
   ]
  },
  {
   "cell_type": "code",
   "execution_count": null,
   "id": "2bb0688f",
   "metadata": {},
   "outputs": [],
   "source": [
    "# 다른 조원의 풀이로 대체\n",
    "import math\n",
    "import sys\n",
    "\n",
    "def num(num):     #소수 구하는 함수 (3 5 7 11 ...)\n",
    "    if num == 1:  #1은 소수가 아니다.\n",
    "        return False\n",
    "    else :\n",
    "        for i in range(2,int(math.sqrt(num))+1) :\n",
    "            if num%i == 0:\n",
    "                return False\n",
    "        return True\n",
    "\n",
    "all_list = list(range(2,246912)) # 문제에서 주어진 범위\n",
    "save_list=[]\n",
    "\n",
    "for i in all_list : # 주어진 범위 안의 소수들을 찾아서 저장해놓는다.\n",
    "    if num(i):\n",
    "        save_list.append(i)\n",
    "\n",
    "num = int(sys.stdin.readline())\n",
    "\n",
    "while num != 0:\n",
    "    count = 0\n",
    "    for i in save_list: # 저장된 소수들 중,\n",
    "        if num < i <= num*2:\n",
    "            count += 1\n",
    "    print(count)\n",
    "    num = int(sys.stdin.readline())"
   ]
  },
  {
   "cell_type": "markdown",
   "id": "05bfe86c",
   "metadata": {},
   "source": [
    "### 골드바흐의 추측 \n",
    "1보다 큰 자연수 중에서  1과 자기 자신을 제외한 약수가 없는 자연수를 소수라고 한다. 예를 들어, 5는 1과 5를 제외한 약수가 없기 때문에 소수이다. 하지만, 6은 6 = 2 × 3 이기 때문에 소수가 아니다.\n",
    "\n",
    "골드바흐의 추측은 유명한 정수론의 미해결 문제로, 2보다 큰 모든 짝수는 두 소수의 합으로 나타낼 수 있다는 것이다. 이러한 수를 골드바흐 수라고 한다. 또, 짝수를 두 소수의 합으로 나타내는 표현을 그 수의 골드바흐 파티션이라고 한다. 예를 들면, 4 = 2 + 2, 6 = 3 + 3, 8 = 3 + 5, 10 = 5 + 5, 12 = 5 + 7, 14 = 3 + 11, 14 = 7 + 7이다. 10000보다 작거나 같은 모든 짝수 n에 대한 골드바흐 파티션은 존재한다.\n",
    "\n",
    "2보다 큰 짝수 n이 주어졌을 때, n의 골드바흐 파티션을 출력하는 프로그램을 작성하시오. 만약 가능한 n의 골드바흐 파티션이 여러 가지인 경우에는 두 소수의 차이가 가장 작은 것을 출력한다."
   ]
  },
  {
   "cell_type": "code",
   "execution_count": null,
   "id": "6b8aa45c",
   "metadata": {},
   "outputs": [],
   "source": [
    "# 다른 조원의 풀이로 대체\n",
    "def Goldbach():\n",
    "    check = [False, False] + [True] * 10000\n",
    "    \n",
    "    for i in range(2, 101):\n",
    "        if check[i] == True:\n",
    "            for j in range(i + i, 10001, i):\n",
    "                check[j] = False\n",
    "\n",
    "    T = int(input())\n",
    "    for _ in range(T):\n",
    "        n = int(input())\n",
    "\n",
    "        A = n // 2\n",
    "        B = A\n",
    "        for _ in range(10000):\n",
    "            if check[A] and check[B]:\n",
    "                print(A, B)\n",
    "                break\n",
    "            A -= 1\n",
    "            B += 1\n",
    "\n",
    "Goldbach()"
   ]
  },
  {
   "cell_type": "markdown",
   "id": "ca430ce6",
   "metadata": {},
   "source": [
    "### 직사각형에서 탈출\n",
    "\n",
    "한수는 지금 (x, y)에 있다. 직사각형은 각 변이 좌표축에 평행하고, 왼쪽 아래 꼭짓점은 (0, 0), 오른쪽 위 꼭짓점은 (w, h)에 있다. 직사각형의 경계선까지 가는 거리의 최솟값을 구하는 프로그램을 작성하시오."
   ]
  },
  {
   "cell_type": "code",
   "execution_count": 10,
   "id": "846ce344",
   "metadata": {},
   "outputs": [
    {
     "name": "stdout",
     "output_type": "stream",
     "text": [
      "6 2 10 3\n",
      "1\n"
     ]
    }
   ],
   "source": [
    "x,y,w,h = list(map(int,input().split()))\n",
    "candidate = [abs(w-x),abs(h-y),x,y]\n",
    "candidate.sort()\n",
    "print(candidate[0])"
   ]
  },
  {
   "cell_type": "markdown",
   "id": "70638ad8",
   "metadata": {},
   "source": [
    "### 네 번째 점\n",
    "세 점이 주어졌을 때, 축에 평행한 직사각형을 만들기 위해서 필요한 네 번째 점을 찾는 프로그램을 작성하시오."
   ]
  },
  {
   "cell_type": "code",
   "execution_count": 4,
   "id": "251f5890",
   "metadata": {},
   "outputs": [
    {
     "name": "stdout",
     "output_type": "stream",
     "text": [
      "30 20\n",
      "10 10\n",
      "10 20\n",
      "20 30\n"
     ]
    }
   ],
   "source": [
    "# 랜덤 시스템을 이용하여 뽑히지 않은 후보를 찾는 시스템이나.. 아직 구현 실패\n",
    "import random\n",
    "\n",
    "one = list(map(int,input().split()))\n",
    "two = list(map(int,input().split()))\n",
    "three = list(map(int,input().split()))\n",
    "point_list = list([one] + [two] + [three])\n",
    "points = list(set(one + two + three))\n",
    "\n",
    "while True:\n",
    "    candidate = random.sample(points, 2)\n",
    "    if candidate not in point_list:\n",
    "        print(candidate[0], candidate[1])\n",
    "        break"
   ]
  },
  {
   "cell_type": "code",
   "execution_count": 3,
   "id": "4a70dde0",
   "metadata": {},
   "outputs": [
    {
     "name": "stdout",
     "output_type": "stream",
     "text": [
      "30 20\n",
      "10 10\n",
      "10 20\n",
      "[[30, 20], [10, 10], [10, 20]]\n",
      "[10, 20, 30]\n"
     ]
    }
   ],
   "source": [
    "one = list(map(int,input().split()))\n",
    "two = list(map(int,input().split()))\n",
    "three = list(map(int,input().split()))\n",
    "point_list = list([one] + [two] + [three])\n",
    "points = list(set(one + two + three))\n",
    "print(point_list)\n",
    "print(points)"
   ]
  },
  {
   "cell_type": "code",
   "execution_count": 16,
   "id": "26a5defc",
   "metadata": {},
   "outputs": [
    {
     "name": "stdout",
     "output_type": "stream",
     "text": [
      "5 5 \n",
      "5 7\n",
      "7 5\n"
     ]
    },
    {
     "data": {
      "text/plain": [
       "[5, 7]"
      ]
     },
     "execution_count": 16,
     "metadata": {},
     "output_type": "execute_result"
    }
   ],
   "source": [
    "import random\n",
    "one = list(map(int,input().split()))\n",
    "two = list(map(int,input().split()))\n",
    "three = list(map(int,input().split()))\n",
    "points = one + two + three\n",
    "random_point = random.sample(points, 2)\n",
    "random_point"
   ]
  },
  {
   "cell_type": "markdown",
   "id": "2358328b",
   "metadata": {},
   "source": [
    "### 직각삼각형\n",
    "과거 이집트인들은 각 변들의 길이가 3, 4, 5인 삼각형이 직각 삼각형인것을 알아냈다. 주어진 세변의 길이로 삼각형이 직각인지 아닌지 구분하시오."
   ]
  },
  {
   "cell_type": "code",
   "execution_count": 24,
   "id": "a574d187",
   "metadata": {
    "scrolled": false
   },
   "outputs": [
    {
     "name": "stdout",
     "output_type": "stream",
     "text": [
      "0 0 0\n"
     ]
    }
   ],
   "source": [
    "while True:\n",
    "    numbers = list(map(int,input().split()))\n",
    "    numbers.sort()\n",
    "    if numbers[0]*numbers[0] + numbers[1]*numbers[1] == numbers[-1]*numbers[-1] and numbers[0] != 0:\n",
    "        print('right')\n",
    "    elif numbers == [0,0,0]:\n",
    "            break                \n",
    "    elif numbers[0]*numbers[0] + numbers[1]*numbers[1] != numbers[-1]*numbers[-1] :\n",
    "        print('wrong')"
   ]
  },
  {
   "cell_type": "code",
   "execution_count": 9,
   "id": "d8bb5d94",
   "metadata": {
    "scrolled": true
   },
   "outputs": [
    {
     "ename": "IndentationError",
     "evalue": "unexpected indent (Temp/ipykernel_8084/2558989614.py, line 3)",
     "output_type": "error",
     "traceback": [
      "\u001b[1;36m  File \u001b[1;32m\"C:\\Users\\user\\AppData\\Local\\Temp/ipykernel_8084/2558989614.py\"\u001b[1;36m, line \u001b[1;32m3\u001b[0m\n\u001b[1;33m    if a*a + b*b == c*c:\u001b[0m\n\u001b[1;37m    ^\u001b[0m\n\u001b[1;31mIndentationError\u001b[0m\u001b[1;31m:\u001b[0m unexpected indent\n"
     ]
    }
   ],
   "source": [
    "while True:\n",
    "    a,b,c = list(map(int,input().split()))\n",
    "        if a*a + b*b == c*c:\n",
    "        print('right')\n",
    "        elif a*a + b*b != c*c:\n",
    "            print('wrong')                \n",
    "        elif a == 0:\n",
    "        break"
   ]
  },
  {
   "cell_type": "code",
   "execution_count": 21,
   "id": "5a1c1f57",
   "metadata": {},
   "outputs": [
    {
     "name": "stdout",
     "output_type": "stream",
     "text": [
      "3\n"
     ]
    }
   ],
   "source": [
    "lista = [1,2]\n",
    "a= sum(lista)\n",
    "print(a)"
   ]
  },
  {
   "cell_type": "markdown",
   "id": "b77d1d1d",
   "metadata": {},
   "source": [
    "### 택시 기하학\n",
    "19세기 독일 수학자 헤르만 민코프스키는 비유클리드 기하학 중 택시 기하학을 고안했다.\n",
    "\n",
    "택시 기하학에서 두 점 T1(x1,y1), T2(x2,y2) 사이의 거리는 다음과 같이 구할 수 있다.\n",
    "\n",
    "D(T1,T2) = |x1-x2| + |y1-y2|\n",
    "\n",
    "두 점 사이의 거리를 제외한 나머지 정의는 유클리드 기하학에서의 정의와 같다.\n",
    "\n",
    "따라서 택시 기하학에서 원의 정의는 유클리드 기하학에서 원의 정의와 같다.\n",
    "\n",
    "원: 평면 상의 어떤 점에서 거리가 일정한 점들의 집합\n",
    "\n",
    "반지름 R이 주어졌을 때, 유클리드 기하학에서 원의 넓이와, 택시 기하학에서 원의 넓이를 구하는 프로그램을 작성하시오."
   ]
  },
  {
   "cell_type": "code",
   "execution_count": 31,
   "id": "e650d1f8",
   "metadata": {},
   "outputs": [
    {
     "name": "stdout",
     "output_type": "stream",
     "text": [
      "1\n",
      "3.141593\n",
      "2.000000\n"
     ]
    }
   ],
   "source": [
    "from math import pi\n",
    "R = int(input())\n",
    "print(round(pi*R*R,6))\n",
    "print(format(2*R*R,\".6f\"))"
   ]
  },
  {
   "cell_type": "markdown",
   "id": "4ede7e0d",
   "metadata": {},
   "source": [
    "### 터렛\n",
    "조규현과 백승환은 터렛에 근무하는 직원이다. 하지만 워낙 존재감이 없어서 인구수는 차지하지 않는다. 다음은 조규현과 백승환의 사진이다.\n",
    "\n",
    "\n",
    "\n",
    "이석원은 조규현과 백승환에게 상대편 마린(류재명)의 위치를 계산하라는 명령을 내렸다. 조규현과 백승환은 각각 자신의 터렛 위치에서 현재 적까지의 거리를 계산했다.\n",
    "\n",
    "조규현의 좌표 (x1, y1)와 백승환의 좌표 (x2, y2)가 주어지고, 조규현이 계산한 류재명과의 거리 r1과 백승환이 계산한 류재명과의 거리 r2가 주어졌을 때, 류재명이 있을 수 있는 좌표의 수를 출력하는 프로그램을 작성하시오.\n",
    "\n",
    "\n",
    "- 두 원의 접점에 대한 개념이 필요한 문제입니다. 다음 링크를 참조하고 코드를 보면 좋습니다.\n",
    "\n",
    "-- https://mathbang.net/101"
   ]
  },
  {
   "cell_type": "code",
   "execution_count": null,
   "id": "eacdf12a",
   "metadata": {
    "scrolled": true
   },
   "outputs": [],
   "source": [
    "T = int(input())\n",
    "for i in range(T):\n",
    "    x1, y1, r1, x2, y2, r2 = list(map(int,input().split())) \n",
    "    d = ((x1-x2)**2 + (y1-y2)**2)**(1/2)\n",
    "    if d == 0 and r1 == r2:\n",
    "        print(-1)\n",
    "    elif abs(r1-r2) == d or r1 + r2 ==d :\n",
    "        print(1)\n",
    "    elif abs(r1-r2) < d < r1 + r2 :\n",
    "        print(2)\n",
    "    else:\n",
    "        print(0)"
   ]
  },
  {
   "cell_type": "code",
   "execution_count": 1,
   "id": "4873b0a9",
   "metadata": {},
   "outputs": [
    {
     "ename": "SyntaxError",
     "evalue": "invalid syntax (Temp/ipykernel_23544/790754049.py, line 2)",
     "output_type": "error",
     "traceback": [
      "\u001b[1;36m  File \u001b[1;32m\"C:\\Users\\user\\AppData\\Local\\Temp/ipykernel_23544/790754049.py\"\u001b[1;36m, line \u001b[1;32m2\u001b[0m\n\u001b[1;33m    영지공지의 오늘,\u001b[0m\n\u001b[1;37m          ^\u001b[0m\n\u001b[1;31mSyntaxError\u001b[0m\u001b[1;31m:\u001b[0m invalid syntax\n"
     ]
    }
   ],
   "source": [
    "프로필사진영지공지 \n",
    "영지공지의 오늘,\n",
    "\n",
    "검색하기 CATEGORY \n",
    "파이썬 스킬업/백준 알고리즘 연습\n",
    "백준 1002번 [파이썬] 터렛 : 두 원의 위치관계, 원의 방정식\n",
    "영지공지 2020. 7. 23. 21:35\n",
    "\n",
    " \n",
    " \n",
    "\n",
    "[Python] 백준 알고리즘 온라인 저지 1002번 : 터렛\n",
    " \n",
    "\n",
    "Python3 코드\n",
    "import math\n",
    "\n",
    "n = int(input())\n",
    "\n",
    "for _ in range(n):\n",
    "    x1, y1, r1, x2, y2, r2 = map(int, input().split())\n",
    "    distance = math.sqrt((x1-x2)**2 + (y1-y2)**2)  # 두 원의 거리 (원의방정식활용)\n",
    "    if distance == 0 and r1 == r2 :  # 두 원이 동심원이고 반지름이 같을 때\n",
    "        print(-1)\n",
    "    elif abs(r1-r2) == distance or r1 + r2 == distance:  # 내접, 외접일 때\n",
    "        print(1)\n",
    "    elif abs(r1-r2) < distance < (r1+r2) :  # 두 원이 서로다른 두 점에서 만날 때\n",
    "        print(2)\n",
    "    else:\n",
    "        print(0)  # 그 외에"
   ]
  },
  {
   "cell_type": "code",
   "execution_count": 54,
   "id": "d4de89eb",
   "metadata": {},
   "outputs": [
    {
     "name": "stdout",
     "output_type": "stream",
     "text": [
      "1 1 1 1 1 5\n",
      "0.0\n",
      "6\n",
      "-4\n"
     ]
    }
   ],
   "source": [
    "x1, y1, r1, x2, y2, r2 = list(map(int,input().split()))\n",
    "print(((x2-x1)**2 + (y2-y1)**2)**(1/2))\n",
    "print(r1 + r2)\n",
    "print(r1 - r2)"
   ]
  },
  {
   "cell_type": "code",
   "execution_count": null,
   "id": "b3006711",
   "metadata": {},
   "outputs": [],
   "source": []
  }
 ],
 "metadata": {
  "kernelspec": {
   "display_name": "Python 3 (ipykernel)",
   "language": "python",
   "name": "python3"
  },
  "language_info": {
   "codemirror_mode": {
    "name": "ipython",
    "version": 3
   },
   "file_extension": ".py",
   "mimetype": "text/x-python",
   "name": "python",
   "nbconvert_exporter": "python",
   "pygments_lexer": "ipython3",
   "version": "3.9.7"
  }
 },
 "nbformat": 4,
 "nbformat_minor": 5
}
