{
 "cells": [
  {
   "cell_type": "code",
   "execution_count": null,
   "id": "5791b67e",
   "metadata": {},
   "outputs": [],
   "source": [
    "# 2750 수 정렬하기\n",
    "\n",
    "x = int(input())\n",
    "num_list = []\n",
    "for i in range(x):\n",
    "    num_list.append(int(input()))\n",
    "num_list1 = sorted(num_list)\n",
    "for i in range(len(num_list)):\n",
    "    print(num_list1[i])"
   ]
  },
  {
   "cell_type": "code",
   "execution_count": 36,
   "id": "b1a3dee9",
   "metadata": {
    "scrolled": true
   },
   "outputs": [
    {
     "name": "stdout",
     "output_type": "stream",
     "text": [
      "5\n",
      "1\n",
      "3\n",
      "8\n",
      "-2\n",
      "2\n",
      "2\n",
      "2\n",
      "1\n",
      "10\n"
     ]
    }
   ],
   "source": [
    "#2108 통계학\n",
    "import sys\n",
    "\n",
    "from collections import Counter\n",
    "\n",
    "n = int(input())\n",
    "num_list =[]\n",
    "\n",
    "for _ in range(n):\n",
    "    num = int(input())\n",
    "    num_list.append(num)\n",
    "    \n",
    "num_list.sort()\n",
    "\n",
    "mode = Counter(num_list).most_common(2) \n",
    "\n",
    "print(round(sum(num_list)/len(num_list)))\n",
    "print(num_list[len(num_list)//2])\n",
    "print(mode[1][0] if len(mode)>1 and mode[0][1]==mode[1][1] else mode[0][0])\n",
    "print(num_list[-1]-num_list[0])"
   ]
  },
  {
   "cell_type": "code",
   "execution_count": 46,
   "id": "8f7e8838",
   "metadata": {
    "scrolled": true
   },
   "outputs": [
    {
     "name": "stdout",
     "output_type": "stream",
     "text": [
      "2143\n",
      "4321\n"
     ]
    }
   ],
   "source": [
    "#1427 소트인사이드\n",
    "# https://assaeunji.github.io/python/2020-05-05-bj1427/\n",
    "# join으로 합치는거 잊지말기!\n",
    "\n",
    "x = list(input())\n",
    "sorted_x = list(reversed(sorted(x)))\n",
    "print(\"\".join(sorted_x))"
   ]
  },
  {
   "cell_type": "code",
   "execution_count": null,
   "id": "6eb611a7",
   "metadata": {},
   "outputs": [],
   "source": [
    "#11650번 좌표 정렬하기\n",
    "#일단 이게 뭔 말이냐? 해서 답지 찾아봄\n",
    "\n",
    "N=int(input())\n",
    "arr=[]\n",
    "for i in range(N):\n",
    "    a,b = map(int,input().split())\n",
    "    arr.append((a,b))\n",
    "arr.sort()\n",
    "for i in range(N):\n",
    "    print(arr[i][0],arr[i][1])\n",
    "    \n",
    "#살펴보니... x좌표 순으로 배열하고 y좌표가 작은 순으로 배열하는 것 같다\n",
    "#arr.sort로 배열이 되어서 바로 배열 출력!\n",
    "\n"
   ]
  },
  {
   "cell_type": "code",
   "execution_count": null,
   "id": "a84cf22e",
   "metadata": {},
   "outputs": [],
   "source": [
    "#11651 좌표 정렬하기 2\n",
    "# 위와 같은 코드로 돌렸는데 틀렸다고 함\n",
    "\n",
    "data = []\n",
    "for i in range(int(input())):\n",
    "    x, y = map(int,input().split())\n",
    "    data.append((x,y))\n",
    "\n",
    "data.sort(key = lambda x : (x[1], x[0]))\n",
    "\n",
    "for d in data:\n",
    "    print(d[0], d[1])"
   ]
  },
  {
   "cell_type": "code",
   "execution_count": 49,
   "id": "6ff1ce67",
   "metadata": {
    "scrolled": true
   },
   "outputs": [
    {
     "name": "stdout",
     "output_type": "stream",
     "text": [
      "5\n",
      "but\n",
      "i\n",
      "wont\n",
      "no\n",
      "more\n",
      "['but', 'i', 'wont', 'no', 'more']\n"
     ]
    }
   ],
   "source": [
    "#1181 단어 정렬\n",
    "\n",
    "N = int(input())\n",
    "lst = []\n",
    "\n",
    "for i in range(N):\n",
    "    lst.append(input())\n",
    "\n",
    "lst = set(lst) # 중복값 제거\n",
    "lst = list(lst) # 리스트로 만들기\n",
    "\n",
    "lst.sort()\n",
    "lst.sort(key = len) # 글자길이로 정렬\n",
    "\n",
    "for i in lst:\n",
    "    print(i)"
   ]
  },
  {
   "cell_type": "code",
   "execution_count": 52,
   "id": "2cb684ac",
   "metadata": {},
   "outputs": [
    {
     "name": "stdout",
     "output_type": "stream",
     "text": [
      "3\n",
      "21 Junkyu\n",
      "21 Dohyun\n",
      "20 Sunyoung\n",
      "('20', 'Sunyoung')\n",
      "('21', 'Dohyun')\n",
      "('21', 'Junkyu')\n"
     ]
    }
   ],
   "source": [
    "#10814 나이순 정렬\n",
    "\n",
    "num = int(input())\n",
    "data = []\n",
    "for i in range(num):\n",
    "    age, name = map(str, input().split(\" \"))\n",
    "    data.append([int(age), i, name])\n",
    "data = sorted(data)\n",
    "\n",
    "for i in range(num):\n",
    "    print(data[i][0], end=\" \")\n",
    "    print(data[i][2])\n",
    "    \n",
    "#관건은... int(age)랑 i...\n",
    "#i를 넣어줘서!!! 순서를 체크해준거. 신박한데???"
   ]
  },
  {
   "cell_type": "code",
   "execution_count": 55,
   "id": "181810c8",
   "metadata": {
    "scrolled": true
   },
   "outputs": [
    {
     "name": "stdout",
     "output_type": "stream",
     "text": [
      "5\n",
      "2 4 -10 4 -8\n",
      "2 3 0 3 1 "
     ]
    }
   ],
   "source": [
    "#18870 좌표압축\n",
    "\n",
    "n = int(input())\n",
    "num_list = list(map(int, input().split()))\n",
    "\n",
    "set_list = sorted(set(num_list))\n",
    "\n",
    "#딕셔너리로 많이 푸는듯\n",
    "\n",
    "dic = {set_list[i] : i for i in range(len(set_list))} \n",
    "# 딕셔너리 형태 { 'a': '000'}이니까 set_list[i] 따로 i 따로 생각\n",
    "\n",
    "for i in num_list:\n",
    "    print(dic[i], end=' ')"
   ]
  }
 ],
 "metadata": {
  "kernelspec": {
   "display_name": "Python 3 (ipykernel)",
   "language": "python",
   "name": "python3"
  },
  "language_info": {
   "codemirror_mode": {
    "name": "ipython",
    "version": 3
   },
   "file_extension": ".py",
   "mimetype": "text/x-python",
   "name": "python",
   "nbconvert_exporter": "python",
   "pygments_lexer": "ipython3",
   "version": "3.9.7"
  }
 },
 "nbformat": 4,
 "nbformat_minor": 5
}
