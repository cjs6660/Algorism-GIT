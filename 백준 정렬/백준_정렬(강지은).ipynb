# 2750 수 정렬하기

x = int(input())
num_list = []
for i in range(x):
    num_list.append(int(input()))
num_list1 = sorted(num_list)
for i in range(len(num_list)):
    print(num_list1[i])
#2108 통계학
import sys

from collections import Counter

n = int(input())
num_list =[]

for _ in range(n):
    num = int(input())
    num_list.append(num)
    
num_list.sort()

mode = Counter(num_list).most_common(2) 

print(round(sum(num_list)/len(num_list)))
print(num_list[len(num_list)//2])
print(mode[1][0] if len(mode)>1 and mode[0][1]==mode[1][1] else mode[0][0])
print(num_list[-1]-num_list[0])
#1427 소트인사이드
# https://assaeunji.github.io/python/2020-05-05-bj1427/
# join으로 합치는거 잊지말기!

x = list(input())
sorted_x = list(reversed(sorted(x)))
print("".join(sorted_x))
#11650번 좌표 정렬하기
#일단 이게 뭔 말이냐? 해서 답지 찾아봄

N=int(input())
arr=[]
for i in range(N):
    a,b = map(int,input().split())
    arr.append((a,b))
arr.sort()
for i in range(N):
    print(arr[i][0],arr[i][1])
    
#살펴보니... x좌표 순으로 배열하고 y좌표가 작은 순으로 배열하는 것 같다
#arr.sort로 배열이 되어서 바로 배열 출력!


#11651 좌표 정렬하기 2
# 위와 같은 코드로 돌렸는데 틀렸다고 함

data = []
for i in range(int(input())):
    x, y = map(int,input().split())
    data.append((x,y))

data.sort(key = lambda x : (x[1], x[0]))

for d in data:
    print(d[0], d[1])
#1181 단어 정렬

N = int(input())
lst = []

for i in range(N):
    lst.append(input())

lst = set(lst) # 중복값 제거
lst = list(lst) # 리스트로 만들기

lst.sort()
lst.sort(key = len) # 글자길이로 정렬

for i in lst:
    print(i)
#10814 나이순 정렬

num = int(input())
data = []
for i in range(num):
    age, name = map(str, input().split(" "))
    data.append([int(age), i, name])
data = sorted(data)

for i in range(num):
    print(data[i][0], end=" ")
    print(data[i][2])
    
#관건은... int(age)랑 i...
#i를 넣어줘서!!! 순서를 체크해준거. 신박한데???
#18870 좌표압축

n = int(input())
num_list = list(map(int, input().split()))

set_list = sorted(set(num_list))

#딕셔너리로 많이 푸는듯

dic = {set_list[i] : i for i in range(len(set_list))} 
# 딕셔너리 형태 { 'a': '000'}이니까 set_list[i] 따로 i 따로 생각

for i in num_list:
    print(dic[i], end=' ')
